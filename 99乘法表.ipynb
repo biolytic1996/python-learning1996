{
  "nbformat": 4,
  "nbformat_minor": 0,
  "metadata": {
    "colab": {
      "name": "99乘法表.ipynb",
      "provenance": [],
      "authorship_tag": "ABX9TyOQdaeK6YcMlfehOZPV+3uT",
      "include_colab_link": true
    },
    "kernelspec": {
      "name": "python3",
      "display_name": "Python 3"
    }
  },
  "cells": [
    {
      "cell_type": "markdown",
      "metadata": {
        "id": "view-in-github",
        "colab_type": "text"
      },
      "source": [
        "<a href=\"https://colab.research.google.com/github/biolytic1996/python-learning1996/blob/master/99%E4%B9%98%E6%B3%95%E8%A1%A8.ipynb\" target=\"_parent\"><img src=\"https://colab.research.google.com/assets/colab-badge.svg\" alt=\"Open In Colab\"/></a>"
      ]
    },
    {
      "cell_type": "markdown",
      "metadata": {
        "id": "EYNNl8dxghUw"
      },
      "source": [
        "### For迴圈特色\n",
        "### 如果今天要把座號1號到10號分別叫出來吃番薯"
      ]
    },
    {
      "cell_type": "code",
      "metadata": {
        "id": "7lWH7I28gdU4",
        "colab": {
          "base_uri": "https://localhost:8080/",
          "height": 193
        },
        "outputId": "94522a49-ecf8-466d-a735-713280591c85"
      },
      "source": [
        "for x in range(1,11):\n",
        "  print(x)\n",
        "     "
      ],
      "execution_count": null,
      "outputs": [
        {
          "output_type": "stream",
          "text": [
            "1\n",
            "2\n",
            "3\n",
            "4\n",
            "5\n",
            "6\n",
            "7\n",
            "8\n",
            "9\n",
            "10\n"
          ],
          "name": "stdout"
        }
      ]
    },
    {
      "cell_type": "code",
      "metadata": {
        "id": "OVrO0e3Shn16",
        "colab": {
          "base_uri": "https://localhost:8080/",
          "height": 171
        },
        "outputId": "594a062b-6f47-4be5-a860-ee877207a70f"
      },
      "source": [
        "for x in range(1,10):\n",
        "  x=x+1 #1號吃不到番薯x=x+1\n",
        "  print(x)\n",
        "  "
      ],
      "execution_count": null,
      "outputs": [
        {
          "output_type": "stream",
          "text": [
            "2\n",
            "3\n",
            "4\n",
            "5\n",
            "6\n",
            "7\n",
            "8\n",
            "9\n",
            "10\n"
          ],
          "name": "stdout"
        }
      ]
    },
    {
      "cell_type": "markdown",
      "metadata": {
        "id": "QHDzt0E_h6O0"
      },
      "source": [
        "今天想叫1號到10號排排站吃番薯"
      ]
    },
    {
      "cell_type": "code",
      "metadata": {
        "id": "bei6QC4Uh5NX",
        "colab": {
          "base_uri": "https://localhost:8080/",
          "height": 35
        },
        "outputId": "69621eb2-09d3-40c0-92e1-4835e838e2e0"
      },
      "source": [
        "for x in range(1,11):\n",
        "  print(x,end=',')\n",
        "  x+=1 "
      ],
      "execution_count": null,
      "outputs": [
        {
          "output_type": "stream",
          "text": [
            "1,2,3,4,5,6,7,8,9,10,"
          ],
          "name": "stdout"
        }
      ]
    },
    {
      "cell_type": "markdown",
      "metadata": {
        "id": "kQcZ9MbkiOuZ"
      },
      "source": [
        "3號烙賽，不要吃番薯"
      ]
    },
    {
      "cell_type": "code",
      "metadata": {
        "id": "9tT_Gv9XiN1v",
        "colab": {
          "base_uri": "https://localhost:8080/",
          "height": 35
        },
        "outputId": "43112a88-5b6e-499d-d8d4-d00abc92fd2e"
      },
      "source": [
        "for x in range(1,10):\n",
        "  if x==3:\n",
        "    continue\n",
        "  print(x,end=',')\n",
        "  x+=1 "
      ],
      "execution_count": null,
      "outputs": [
        {
          "output_type": "stream",
          "text": [
            "1,2,4,5,6,7,8,9,"
          ],
          "name": "stdout"
        }
      ]
    },
    {
      "cell_type": "markdown",
      "metadata": {
        "id": "2yRNliu4ifZg"
      },
      "source": [
        "3號烙賽，不要吃番薯,6號吃完智齒發作痛到休克，暫停吃番薯活動"
      ]
    },
    {
      "cell_type": "code",
      "metadata": {
        "id": "YPn78lEEixdQ",
        "colab": {
          "base_uri": "https://localhost:8080/",
          "height": 35
        },
        "outputId": "2a7ff9f8-7fed-47e0-d579-2e9e85f47594"
      },
      "source": [
        "for x in range(1,10):\n",
        "  if x==3:\n",
        "    continue\n",
        "  if x==6:\n",
        "    break\n",
        "  print(x,end=',')\n",
        "  x+=1 "
      ],
      "execution_count": null,
      "outputs": [
        {
          "output_type": "stream",
          "text": [
            "1,2,4,5,"
          ],
          "name": "stdout"
        }
      ]
    },
    {
      "cell_type": "markdown",
      "metadata": {
        "id": "ZjQj1Qzeh2qV"
      },
      "source": [
        "######For 迴圈來寫九九乘法表\n"
      ]
    },
    {
      "cell_type": "code",
      "metadata": {
        "id": "16bD53SMh1iK",
        "colab": {
          "base_uri": "https://localhost:8080/"
        },
        "outputId": "3f1364a5-3440-45ff-bfa0-809409114379"
      },
      "source": [
        "for x in range(1,10):\n",
        "  for y in range(1,9):\n",
        "    print('{0}*{1}={2:^4}'.format(x,y,x*y),end=' ')\n",
        "  print( )"
      ],
      "execution_count": null,
      "outputs": [
        {
          "output_type": "stream",
          "text": [
            "1*1= 1   1*2= 2   1*3= 3   1*4= 4   1*5= 5   1*6= 6   1*7= 7   1*8= 8   \n",
            "2*1= 2   2*2= 4   2*3= 6   2*4= 8   2*5= 10  2*6= 12  2*7= 14  2*8= 16  \n",
            "3*1= 3   3*2= 6   3*3= 9   3*4= 12  3*5= 15  3*6= 18  3*7= 21  3*8= 24  \n",
            "4*1= 4   4*2= 8   4*3= 12  4*4= 16  4*5= 20  4*6= 24  4*7= 28  4*8= 32  \n",
            "5*1= 5   5*2= 10  5*3= 15  5*4= 20  5*5= 25  5*6= 30  5*7= 35  5*8= 40  \n",
            "6*1= 6   6*2= 12  6*3= 18  6*4= 24  6*5= 30  6*6= 36  6*7= 42  6*8= 48  \n",
            "7*1= 7   7*2= 14  7*3= 21  7*4= 28  7*5= 35  7*6= 42  7*7= 49  7*8= 56  \n",
            "8*1= 8   8*2= 16  8*3= 24  8*4= 32  8*5= 40  8*6= 48  8*7= 56  8*8= 64  \n",
            "9*1= 9   9*2= 18  9*3= 27  9*4= 36  9*5= 45  9*6= 54  9*7= 63  9*8= 72  \n"
          ],
          "name": "stdout"
        }
      ]
    },
    {
      "cell_type": "code",
      "metadata": {
        "id": "8J-D12587w0s"
      },
      "source": [
        ""
      ],
      "execution_count": null,
      "outputs": []
    },
    {
      "cell_type": "markdown",
      "metadata": {
        "id": "1ToV_hhFNtx_"
      },
      "source": [
        "For 迴圈來計算大家的體重"
      ]
    },
    {
      "cell_type": "code",
      "metadata": {
        "id": "BK7BXPB1N2tj",
        "colab": {
          "base_uri": "https://localhost:8080/"
        },
        "outputId": "5ea6d661-a14f-4cbf-8438-76a4fc22de79"
      },
      "source": [
        "體重表=[10,20,30,40,50]\n",
        "總重=0\n",
        "for i in 體重表:\n",
        "  總重=總重+i\n",
        "  print('{0}'.format(總重))\n",
        "\n",
        "print(總重)"
      ],
      "execution_count": null,
      "outputs": [
        {
          "output_type": "stream",
          "text": [
            "10\n",
            "30\n",
            "60\n",
            "100\n",
            "150\n",
            "150\n"
          ],
          "name": "stdout"
        }
      ]
    },
    {
      "cell_type": "markdown",
      "metadata": {
        "id": "jm5KF9-z9fa8"
      },
      "source": [
        "for 算階乘"
      ]
    },
    {
      "cell_type": "code",
      "metadata": {
        "id": "js9iP4G58rlY",
        "colab": {
          "base_uri": "https://localhost:8080/",
          "height": 175
        },
        "outputId": "0ca875fd-03f5-46e8-b5cf-7ec90effdb06"
      },
      "source": [
        "time=1\n",
        "for i in range(1,10):\n",
        "  time=i*time\n",
        "  print(time)"
      ],
      "execution_count": null,
      "outputs": [
        {
          "output_type": "stream",
          "text": [
            "1\n",
            "2\n",
            "6\n",
            "24\n",
            "120\n",
            "720\n",
            "5040\n",
            "40320\n",
            "362880\n"
          ],
          "name": "stdout"
        }
      ]
    },
    {
      "cell_type": "markdown",
      "metadata": {
        "id": "GT5qRRrOh_E1"
      },
      "source": [
        "While迴圈特色"
      ]
    },
    {
      "cell_type": "code",
      "metadata": {
        "id": "vzRngcKGjSHW",
        "colab": {
          "base_uri": "https://localhost:8080/",
          "height": 35
        },
        "outputId": "81c6135f-5d23-46a4-fca4-1d5d7e3f3c7b"
      },
      "source": [
        "y=1\n",
        "while y<=9:\n",
        "  print(y,end=',')\n",
        "  y+=1\n"
      ],
      "execution_count": null,
      "outputs": [
        {
          "output_type": "stream",
          "text": [
            "1,2,3,4,5,6,7,8,9,"
          ],
          "name": "stdout"
        }
      ]
    },
    {
      "cell_type": "code",
      "metadata": {
        "id": "bDg87iYZkit3",
        "colab": {
          "base_uri": "https://localhost:8080/",
          "height": 35
        },
        "outputId": "bc43f233-7b06-40b7-e2c4-a8c292853701"
      },
      "source": [
        "y=1\n",
        "while y<=9:\n",
        "  for x in range(1,10):\n",
        "    print(x,y,end=',')\n",
        "    y+=1"
      ],
      "execution_count": null,
      "outputs": [
        {
          "output_type": "stream",
          "text": [
            "1 1,2 2,3 3,4 4,5 5,6 6,7 7,8 8,9 9,"
          ],
          "name": "stdout"
        }
      ]
    },
    {
      "cell_type": "markdown",
      "metadata": {
        "id": "0-y2Ts-omiyv"
      },
      "source": [
        "### while迴圈來寫九九乘法表"
      ]
    },
    {
      "cell_type": "code",
      "metadata": {
        "id": "Ul-8T8w6mpgj",
        "colab": {
          "base_uri": "https://localhost:8080/",
          "height": 173
        },
        "outputId": "18fd7e13-e3a8-4824-bab9-bcf9705144cd"
      },
      "source": [
        "x=1\n",
        "while x<=9:\n",
        "  y=1\n",
        "  while y<=9:\n",
        "    print('{0}*{1}={2:>2}'.format(x,y,x*y),end=' ')\n",
        "    y+=1\n",
        "  x+=1\n",
        "  print()#換行"
      ],
      "execution_count": null,
      "outputs": [
        {
          "output_type": "stream",
          "text": [
            "1*1= 1 1*2= 2 1*3= 3 1*4= 4 1*5= 5 1*6= 6 1*7= 7 1*8= 8 1*9= 9 \n",
            "2*1= 2 2*2= 4 2*3= 6 2*4= 8 2*5=10 2*6=12 2*7=14 2*8=16 2*9=18 \n",
            "3*1= 3 3*2= 6 3*3= 9 3*4=12 3*5=15 3*6=18 3*7=21 3*8=24 3*9=27 \n",
            "4*1= 4 4*2= 8 4*3=12 4*4=16 4*5=20 4*6=24 4*7=28 4*8=32 4*9=36 \n",
            "5*1= 5 5*2=10 5*3=15 5*4=20 5*5=25 5*6=30 5*7=35 5*8=40 5*9=45 \n",
            "6*1= 6 6*2=12 6*3=18 6*4=24 6*5=30 6*6=36 6*7=42 6*8=48 6*9=54 \n",
            "7*1= 7 7*2=14 7*3=21 7*4=28 7*5=35 7*6=42 7*7=49 7*8=56 7*9=63 \n",
            "8*1= 8 8*2=16 8*3=24 8*4=32 8*5=40 8*6=48 8*7=56 8*8=64 8*9=72 \n",
            "9*1= 9 9*2=18 9*3=27 9*4=36 9*5=45 9*6=54 9*7=63 9*8=72 9*9=81 \n"
          ],
          "name": "stdout"
        }
      ]
    },
    {
      "cell_type": "code",
      "metadata": {
        "id": "SfR-vDukiFnM",
        "colab": {
          "base_uri": "https://localhost:8080/",
          "height": 173
        },
        "outputId": "b7f3e86d-ba88-4091-b3f4-80f73815a080"
      },
      "source": [
        "x=1\n",
        "z=0\n",
        "while x<=9:\n",
        "  y=1\n",
        "  while y<=9:\n",
        "    print('{0}*{1}={2:^2}'.format(x,y,x*y),end=' ')\n",
        "    y+=1\n",
        "  x+=1\n",
        "  z+=1\n",
        "  print('第{}圈'.format(z))\n"
      ],
      "execution_count": null,
      "outputs": [
        {
          "output_type": "stream",
          "text": [
            "1*1=1  1*2=2  1*3=3  1*4=4  1*5=5  1*6=6  1*7=7  1*8=8  1*9=9  第1圈\n",
            "2*1=2  2*2=4  2*3=6  2*4=8  2*5=10 2*6=12 2*7=14 2*8=16 2*9=18 第2圈\n",
            "3*1=3  3*2=6  3*3=9  3*4=12 3*5=15 3*6=18 3*7=21 3*8=24 3*9=27 第3圈\n",
            "4*1=4  4*2=8  4*3=12 4*4=16 4*5=20 4*6=24 4*7=28 4*8=32 4*9=36 第4圈\n",
            "5*1=5  5*2=10 5*3=15 5*4=20 5*5=25 5*6=30 5*7=35 5*8=40 5*9=45 第5圈\n",
            "6*1=6  6*2=12 6*3=18 6*4=24 6*5=30 6*6=36 6*7=42 6*8=48 6*9=54 第6圈\n",
            "7*1=7  7*2=14 7*3=21 7*4=28 7*5=35 7*6=42 7*7=49 7*8=56 7*9=63 第7圈\n",
            "8*1=8  8*2=16 8*3=24 8*4=32 8*5=40 8*6=48 8*7=56 8*8=64 8*9=72 第8圈\n",
            "9*1=9  9*2=18 9*3=27 9*4=36 9*5=45 9*6=54 9*7=63 9*8=72 9*9=81 第9圈\n"
          ],
          "name": "stdout"
        }
      ]
    },
    {
      "cell_type": "markdown",
      "metadata": {
        "id": "cj0QHAsKQIbI"
      },
      "source": [
        "For 還可以簡易解題~~\n"
      ]
    },
    {
      "cell_type": "code",
      "metadata": {
        "id": "-LhsDRDKgZLC",
        "colab": {
          "base_uri": "https://localhost:8080/",
          "height": 52
        },
        "outputId": "ea6d4a93-6f0c-4495-a90b-b86aa9d93b1d"
      },
      "source": [
        "for x in range(10):\n",
        "  for y in range(10):\n",
        "    if x**2+5*y==9:\n",
        "      print(x,y)"
      ],
      "execution_count": null,
      "outputs": [
        {
          "output_type": "stream",
          "text": [
            "2 1\n",
            "3 0\n"
          ],
          "name": "stdout"
        }
      ]
    },
    {
      "cell_type": "markdown",
      "metadata": {
        "id": "X9uIvQeQVoc8"
      },
      "source": [
        "while 解題"
      ]
    },
    {
      "cell_type": "code",
      "metadata": {
        "id": "vQ_xflZrVHW0",
        "colab": {
          "base_uri": "https://localhost:8080/",
          "height": 34
        },
        "outputId": "bc6d2a89-91dc-4fe3-cb79-bfafc9582150"
      },
      "source": [
        "x=-10\n",
        "while x<=100:\n",
        "  x=x+1\n",
        "  if x+8==10:\n",
        "    print(x)"
      ],
      "execution_count": null,
      "outputs": [
        {
          "output_type": "stream",
          "text": [
            "2\n"
          ],
          "name": "stdout"
        }
      ]
    },
    {
      "cell_type": "code",
      "metadata": {
        "id": "HgYcyenOOm33",
        "colab": {
          "base_uri": "https://localhost:8080/",
          "height": 35
        },
        "outputId": "e615ed41-c292-4e0a-e800-659514f54131"
      },
      "source": [
        "30*2.54\n"
      ],
      "execution_count": null,
      "outputs": [
        {
          "output_type": "execute_result",
          "data": {
            "text/plain": [
              "76.2"
            ]
          },
          "metadata": {
            "tags": []
          },
          "execution_count": 8
        }
      ]
    },
    {
      "cell_type": "code",
      "metadata": {
        "id": "SZxg0sUyQwX0",
        "colab": {
          "base_uri": "https://localhost:8080/",
          "height": 69
        },
        "outputId": "9f2874ab-f293-44e1-c464-e6aa55f85c22"
      },
      "source": [
        "D=int(input('輸入距離公尺'))\n",
        "x=D/176.2\n",
        "if x>60:\n",
        "  (min,sec)=divmod(x,60)\n",
        "  print(min,round(sec,1))\n",
        "print(x)\n"
      ],
      "execution_count": null,
      "outputs": [
        {
          "output_type": "stream",
          "text": [
            "輸入距離公尺20000\n",
            "1.0 53.5\n",
            "113.50737797956867\n"
          ],
          "name": "stdout"
        }
      ]
    },
    {
      "cell_type": "code",
      "metadata": {
        "id": "7egVF_HnT_ug",
        "colab": {
          "base_uri": "https://localhost:8080/",
          "height": 35
        },
        "outputId": "5ed1b2fc-46c1-4afd-a8c8-ead8f070d513"
      },
      "source": [
        ""
      ],
      "execution_count": null,
      "outputs": [
        {
          "output_type": "execute_result",
          "data": {
            "text/plain": [
              "['吃飯', '去全家', '睡覺']"
            ]
          },
          "metadata": {
            "tags": []
          },
          "execution_count": 5
        }
      ]
    },
    {
      "cell_type": "code",
      "metadata": {
        "id": "xneLz78MZ6X5",
        "colab": {
          "base_uri": "https://localhost:8080/",
          "height": 35
        },
        "outputId": "04d2647d-5856-488f-f401-679ca00e403a"
      },
      "source": [
        "import random\n",
        "todolist = ['吃飯','睡覺','去7-11','去全家']\n",
        "week=['Mon','Tue','Wed','Thu','Fri','Sat','Sun']\n",
        "for i in week:\n",
        "  print('{0}{1}'.format(i,random.sample(todolist,1)),end=',')\n"
      ],
      "execution_count": null,
      "outputs": [
        {
          "output_type": "stream",
          "text": [
            "Mon['去全家'],Tue['去7-11'],Wed['去全家'],Thu['去7-11'],Fri['睡覺'],Sat['睡覺'],Sun['去全家'],"
          ],
          "name": "stdout"
        }
      ]
    },
    {
      "cell_type": "code",
      "metadata": {
        "id": "Ysjh5BMNbVE6",
        "colab": {
          "base_uri": "https://localhost:8080/",
          "height": 87
        },
        "outputId": "6c31075d-82c5-4f78-f652-47e2b8b1909c"
      },
      "source": [
        "import random\n",
        "todolist = ['吃飯','睡覺','倒垃圾','被趕出家門']\n",
        "name=['darkcupid','suhorse','Cindy','Ana']\n",
        "for i in name:\n",
        "  print('{0}{1}'.format(i,random.sample(todolist,2)))"
      ],
      "execution_count": null,
      "outputs": [
        {
          "output_type": "stream",
          "text": [
            "darkcupid['吃飯', '睡覺']\n",
            "suhorse['倒垃圾', '被趕出家門']\n",
            "Cindy['被趕出家門', '睡覺']\n",
            "Ana['被趕出家門', '睡覺']\n"
          ],
          "name": "stdout"
        }
      ]
    },
    {
      "cell_type": "code",
      "metadata": {
        "id": "uF7RBLjNfYRs",
        "colab": {
          "base_uri": "https://localhost:8080/",
          "height": 35
        },
        "outputId": "bedd164f-00ea-445a-cb43-990463f03928"
      },
      "source": [
        "from numpy import random as rd\n",
        "\n",
        "ary = list(range(10))\n",
        "rd.choice(ary, size=10, replace=True)\n",
        "\n",
        "\n",
        "  "
      ],
      "execution_count": null,
      "outputs": [
        {
          "output_type": "execute_result",
          "data": {
            "text/plain": [
              "array([0, 0, 4, 1, 0, 8, 0, 8, 0, 7])"
            ]
          },
          "metadata": {
            "tags": []
          },
          "execution_count": 40
        }
      ]
    },
    {
      "cell_type": "markdown",
      "metadata": {
        "id": "HHGCaoXhWCoM"
      },
      "source": [
        "每個人指派一項不重複工作\n"
      ]
    },
    {
      "cell_type": "code",
      "metadata": {
        "id": "kpQyxU-IjVB4",
        "colab": {
          "base_uri": "https://localhost:8080/",
          "height": 34
        },
        "outputId": "2cfccfe6-43c7-4eb2-838d-c1676ee53040"
      },
      "source": [
        "import random # 燒金紙\n",
        "todolist = ['賣臭豆腐','顧店','趕鬼','耍啟']\n",
        "people=['ANDY','ANA','HORSE','CINDY']\n",
        "for i in people:\n",
        "  wtf=random.sample(todolist,1)# wtf=[]\n",
        "  print('{0}{1}'.format(i,wtf),end=',')\n",
        "  todolist.remove(wtf[0])#wtf[0]:裡面的第一個元素"
      ],
      "execution_count": null,
      "outputs": [
        {
          "output_type": "stream",
          "text": [
            "ANDY['顧店'],ANA['賣臭豆腐'],HORSE['耍啟'],CINDY['趕鬼'],"
          ],
          "name": "stdout"
        }
      ]
    },
    {
      "cell_type": "code",
      "metadata": {
        "id": "Nzj-QIYnhIMX",
        "colab": {
          "base_uri": "https://localhost:8080/",
          "height": 171
        },
        "outputId": "7ec8f1dc-a728-4219-cced-1983b1bb9047"
      },
      "source": [
        "def 星爆氣流斬(x,y):\n",
        "  for a in range(1,x):\n",
        "    for b in range(1,y):\n",
        "      print('{0}*{1}={2:^2}'.format(a,b,a*b),end=' ')\n",
        "    print()\n",
        "  \n",
        "星爆氣流斬(10,10)"
      ],
      "execution_count": null,
      "outputs": [
        {
          "output_type": "stream",
          "text": [
            "1*1=1  1*2=2  1*3=3  1*4=4  1*5=5  1*6=6  1*7=7  1*8=8  1*9=9  \n",
            "2*1=2  2*2=4  2*3=6  2*4=8  2*5=10 2*6=12 2*7=14 2*8=16 2*9=18 \n",
            "3*1=3  3*2=6  3*3=9  3*4=12 3*5=15 3*6=18 3*7=21 3*8=24 3*9=27 \n",
            "4*1=4  4*2=8  4*3=12 4*4=16 4*5=20 4*6=24 4*7=28 4*8=32 4*9=36 \n",
            "5*1=5  5*2=10 5*3=15 5*4=20 5*5=25 5*6=30 5*7=35 5*8=40 5*9=45 \n",
            "6*1=6  6*2=12 6*3=18 6*4=24 6*5=30 6*6=36 6*7=42 6*8=48 6*9=54 \n",
            "7*1=7  7*2=14 7*3=21 7*4=28 7*5=35 7*6=42 7*7=49 7*8=56 7*9=63 \n",
            "8*1=8  8*2=16 8*3=24 8*4=32 8*5=40 8*6=48 8*7=56 8*8=64 8*9=72 \n",
            "9*1=9  9*2=18 9*3=27 9*4=36 9*5=45 9*6=54 9*7=63 9*8=72 9*9=81 \n"
          ],
          "name": "stdout"
        }
      ]
    },
    {
      "cell_type": "markdown",
      "metadata": {
        "id": "-iL8o6xV_uVG"
      },
      "source": [
        "水仙花數"
      ]
    },
    {
      "cell_type": "code",
      "metadata": {
        "id": "wX764Et2_kPC",
        "colab": {
          "base_uri": "https://localhost:8080/",
          "height": 35
        },
        "outputId": "0339c85a-c32f-48f5-9b8c-a7bf37611a1e"
      },
      "source": [
        "def 阿姆斯特朗(N):\n",
        "  str1=str(N)#N剛輸入時  還是數字 str(N) 把407變成字符串\n",
        "  m=len(str1)#M=位元數\n",
        "  sum=0\n",
        "  for i in str1:\n",
        "    sum=int(i)**m+sum #int才可運算\n",
        "  if sum==N:\n",
        "    print('True')\n",
        "  else:\n",
        "    print('False')\n",
        "\n",
        "阿姆斯特朗(407)"
      ],
      "execution_count": null,
      "outputs": [
        {
          "output_type": "stream",
          "text": [
            "True\n"
          ],
          "name": "stdout"
        }
      ]
    },
    {
      "cell_type": "code",
      "metadata": {
        "id": "ukETmrw6fx2I"
      },
      "source": [
        ""
      ],
      "execution_count": null,
      "outputs": []
    },
    {
      "cell_type": "code",
      "metadata": {
        "id": "m54c_BZ38Hya",
        "colab": {
          "base_uri": "https://localhost:8080/",
          "height": 35
        },
        "outputId": "42fb9507-57c6-4c64-e670-0356826f26eb"
      },
      "source": [
        "Narcissistic(369)"
      ],
      "execution_count": null,
      "outputs": [
        {
          "output_type": "stream",
          "text": [
            "False\n"
          ],
          "name": "stdout"
        }
      ]
    },
    {
      "cell_type": "code",
      "metadata": {
        "id": "LxjrTmPlfE17"
      },
      "source": [
        ""
      ],
      "execution_count": null,
      "outputs": []
    },
    {
      "cell_type": "code",
      "metadata": {
        "id": "lFRzOFTR_0Qk",
        "colab": {
          "base_uri": "https://localhost:8080/",
          "height": 35
        },
        "outputId": "25772fc8-8001-4d0a-c701-9296bd9495c5"
      },
      "source": [
        "def narc_find(x,y):\n",
        "  listc=[]\n",
        "  if x>1 and y>2:\n",
        "    for N in range(x,y):\n",
        "      str1=str(N)\n",
        "      m=len(str1)\n",
        "      sum=0\n",
        "      for i in str1:\n",
        "        sum+=int(i)**m\n",
        "        if sum==N:\n",
        "          listc.append(N)\n",
        "  else:\n",
        "    print('Wrong')\n",
        "  return(listc)\n",
        " \n",
        "narc_find(300,1000)"
      ],
      "execution_count": null,
      "outputs": [
        {
          "output_type": "execute_result",
          "data": {
            "text/plain": [
              "[370, 370, 371, 407]"
            ]
          },
          "metadata": {
            "tags": []
          },
          "execution_count": 43
        }
      ]
    },
    {
      "cell_type": "code",
      "metadata": {
        "id": "KQMqQv1yINSS",
        "colab": {
          "base_uri": "https://localhost:8080/",
          "height": 156
        },
        "outputId": "6f8e5219-4b30-4a63-b11c-6453cdd16adc"
      },
      "source": [
        "narc_find(2,10)"
      ],
      "execution_count": null,
      "outputs": [
        {
          "output_type": "stream",
          "text": [
            "2\n",
            "3\n",
            "4\n",
            "5\n",
            "6\n",
            "7\n",
            "8\n",
            "9\n"
          ],
          "name": "stdout"
        }
      ]
    },
    {
      "cell_type": "code",
      "metadata": {
        "id": "diHW4svbIRY6"
      },
      "source": [
        "with open('c:\\\\0913.txt','w')as f:\n",
        "  f.write('你好阿啟')"
      ],
      "execution_count": null,
      "outputs": []
    },
    {
      "cell_type": "code",
      "metadata": {
        "id": "wNscmkW9qV37"
      },
      "source": [
        ""
      ],
      "execution_count": null,
      "outputs": []
    }
  ]
}