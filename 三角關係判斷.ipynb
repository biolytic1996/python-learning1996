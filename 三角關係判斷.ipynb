{
  "nbformat": 4,
  "nbformat_minor": 0,
  "metadata": {
    "colab": {
      "name": "三角關係判斷.ipynb",
      "provenance": [],
      "authorship_tag": "ABX9TyP/IuBcbCTgzOOQbNlwgo8P",
      "include_colab_link": true
    },
    "kernelspec": {
      "name": "python3",
      "display_name": "Python 3"
    },
    "language_info": {
      "name": "python"
    }
  },
  "cells": [
    {
      "cell_type": "markdown",
      "metadata": {
        "id": "view-in-github",
        "colab_type": "text"
      },
      "source": [
        "<a href=\"https://colab.research.google.com/github/biolytic1996/python-learning1996/blob/master/%E4%B8%89%E8%A7%92%E9%97%9C%E4%BF%82%E5%88%A4%E6%96%B7.ipynb\" target=\"_parent\"><img src=\"https://colab.research.google.com/assets/colab-badge.svg\" alt=\"Open In Colab\"/></a>"
      ]
    },
    {
      "cell_type": "markdown",
      "metadata": {
        "id": "bOmMHbTdzBXN"
      },
      "source": [
        "##三角關係判斷\n",
        "![](https://memeprod.sgp1.digitaloceanspaces.com/user-template/e454fa4be160c258c29044ad034f74bd.png)"
      ]
    },
    {
      "cell_type": "code",
      "metadata": {
        "id": "FIPUJY5jG_v9",
        "colab": {
          "base_uri": "https://localhost:8080/"
        },
        "outputId": "febd2372-73f4-4de5-d236-078c6a373b91"
      },
      "source": [
        "def tri_class(a,b,c): #建立三角形分類函數\n",
        "  lis =[a,b,c]   #將輸入的數字放到列表內\n",
        "  lis_sort = sorted(lis)#列表內元素由小到大排序\n",
        "  max=int(lis_sort[2])#列表內第3個元素命名為max\n",
        "  med=int(lis_sort[1])#列表內第2個元素命名為med\n",
        "  min=int(lis_sort[0])#列表內第3個元素命名為min\n",
        "\n",
        "  if a>30000 or b>30000 or c>30000 or a<=0 or b<=0 or c <=0:\n",
        "    #若輸入的數字大於3萬或是0或是負數，進行報錯\n",
        "    print('請輸入小於30000,不要輸入0,下面是你剛輸入的')\n",
        "    print(lis_sort)\n",
        "  \n",
        "  else:#若輸入的數字符合規則，進行以下指令\n",
        "    \n",
        "    print(min,med,max,sep=' ')#輸出由小到大三個邊長\n",
        "    if min+med<max:# 判斷是否無法構成三角形\n",
        "      print('NO')\n",
        "    else:\n",
        "      if min**2+med**2<max**2:# 判斷是否為銳角三角形\n",
        "        print('it is acute triangle')\n",
        "      if min**2+med**2==max**2:# 判斷是否為直角三角形\n",
        "        print('it is right triangle')\n",
        "      if min**2+med**2>max**2:# 判斷是否為鈍角三角形\n",
        "        print('it is obtuse triangle')\n",
        "    \n",
        "a = int(input('請輸入第一個邊長'))\n",
        "b = int(input('請輸入第二個邊長'))\n",
        "c = int(input('請輸入第三個邊長'))\n",
        "tri_class(a,b,c)\n",
        "\n",
        "  "
      ],
      "execution_count": 17,
      "outputs": [
        {
          "output_type": "stream",
          "name": "stdout",
          "text": [
            "請輸入第一個邊長5\n",
            "請輸入第二個邊長3\n",
            "請輸入第三個邊長4\n",
            "3 4 5\n",
            "it is right triangle\n"
          ]
        }
      ]
    }
  ]
}