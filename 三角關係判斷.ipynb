{
  "nbformat": 4,
  "nbformat_minor": 0,
  "metadata": {
    "colab": {
      "name": "三角關係判斷.ipynb",
      "provenance": [],
      "authorship_tag": "ABX9TyPNLapNTiSOGQlOGGLNADSG",
      "include_colab_link": true
    },
    "kernelspec": {
      "name": "python3",
      "display_name": "Python 3"
    },
    "language_info": {
      "name": "python"
    }
  },
  "cells": [
    {
      "cell_type": "markdown",
      "metadata": {
        "id": "view-in-github",
        "colab_type": "text"
      },
      "source": [
        "<a href=\"https://colab.research.google.com/github/biolytic1996/python-learning1996/blob/master/%E4%B8%89%E8%A7%92%E9%97%9C%E4%BF%82%E5%88%A4%E6%96%B7.ipynb\" target=\"_parent\"><img src=\"https://colab.research.google.com/assets/colab-badge.svg\" alt=\"Open In Colab\"/></a>"
      ]
    },
    {
      "cell_type": "markdown",
      "metadata": {
        "id": "bOmMHbTdzBXN"
      },
      "source": [
        "##三角關係判斷\n",
        "![](https://memeprod.sgp1.digitaloceanspaces.com/user-template/e454fa4be160c258c29044ad034f74bd.png)"
      ]
    },
    {
      "cell_type": "code",
      "metadata": {
        "id": "FIPUJY5jG_v9"
      },
      "source": [
        "def tri_class(a,b,c):\n",
        "  lis =[a,b,c]\n",
        "  lis_sort = sorted(lis)\n",
        "  if a>30000 or b>30000 or c>30000 or a<=0 or b<=0 or c <=0:\n",
        "    print('請輸入小於30000還有幹!不要輸入0,看看你輸入了甚麼')\n",
        "    print(lis_sort)\n",
        "  else:\n",
        "    print('你剛輸入的是')\n",
        "    print(lis_sort)\n",
        "  max=int(lis_sort[2])\n",
        "  med=int(lis_sort[1])\n",
        "  min=int(lis_sort[0])\n",
        "\n",
        "  if min+med<max:\n",
        "    print('NO')\n",
        "  if min**2+med**2<max**2:\n",
        "    print('acute')\n",
        "  if min**2+med**2==max**2:\n",
        "    print('right')\n",
        "  if min**2+med**2>max**2:\n",
        "    print('obtuse')\n",
        "    \n",
        "a = int(input('請輸入邊長1'))\n",
        "b = int(input('請輸入邊長2'))\n",
        "c = int(input('請輸入邊長3'))\n",
        "tri_class(a,b,c)\n",
        "\n",
        "  "
      ],
      "execution_count": null,
      "outputs": []
    }
  ]
}