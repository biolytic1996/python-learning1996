{
  "nbformat": 4,
  "nbformat_minor": 0,
  "metadata": {
    "colab": {
      "name": "魷魚問卷.ipynb",
      "provenance": [],
      "authorship_tag": "ABX9TyNEyExGoTjh7BuH2szxpT5+",
      "include_colab_link": true
    },
    "kernelspec": {
      "name": "python3",
      "display_name": "Python 3"
    },
    "language_info": {
      "name": "python"
    }
  },
  "cells": [
    {
      "cell_type": "markdown",
      "metadata": {
        "id": "view-in-github",
        "colab_type": "text"
      },
      "source": [
        "<a href=\"https://colab.research.google.com/github/biolytic1996/python-learning1996/blob/master/%E9%AD%B7%E9%AD%9A%E5%95%8F%E5%8D%B7.ipynb\" target=\"_parent\"><img src=\"https://colab.research.google.com/assets/colab-badge.svg\" alt=\"Open In Colab\"/></a>"
      ]
    },
    {
      "cell_type": "markdown",
      "metadata": {
        "id": "dbUEaFQgzLyr"
      },
      "source": [
        "# **請按下方play按鍵**\n"
      ]
    },
    {
      "cell_type": "code",
      "metadata": {
        "id": "-DlBDg_ozXOy"
      },
      "source": [
        "def printweight():\n",
        "  w1=input('隨便打字')\n",
        "  print(w1)\n",
        "printweight()"
      ],
      "execution_count": null,
      "outputs": []
    }
  ]
}