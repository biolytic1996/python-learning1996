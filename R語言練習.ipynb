{
  "nbformat": 4,
  "nbformat_minor": 0,
  "metadata": {
    "colab": {
      "provenance": [],
      "authorship_tag": "ABX9TyN+YhntIlZ6byPIBTDbkRnE",
      "include_colab_link": true
    },
    "kernelspec": {
      "name": "ir",
      "display_name": "R"
    },
    "language_info": {
      "name": "R"
    }
  },
  "cells": [
    {
      "cell_type": "markdown",
      "metadata": {
        "id": "view-in-github",
        "colab_type": "text"
      },
      "source": [
        "<a href=\"https://colab.research.google.com/github/biolytic1996/python-learning1996/blob/master/R%E8%AA%9E%E8%A8%80%E7%B7%B4%E7%BF%92.ipynb\" target=\"_parent\"><img src=\"https://colab.research.google.com/assets/colab-badge.svg\" alt=\"Open In Colab\"/></a>"
      ]
    },
    {
      "cell_type": "code",
      "source": [],
      "metadata": {
        "id": "UhRN7i8UtQIt"
      },
      "execution_count": null,
      "outputs": []
    },
    {
      "cell_type": "code",
      "execution_count": null,
      "metadata": {
        "colab": {
          "base_uri": "https://localhost:8080/"
        },
        "id": "VCID1ltcf3Wz",
        "outputId": "e2b25fa3-89f5-4046-842b-704f0d5670e2"
      },
      "outputs": [
        {
          "output_type": "stream",
          "name": "stderr",
          "text": [
            "Installing package into ‘/usr/local/lib/R/site-library’\n",
            "(as ‘lib’ is unspecified)\n",
            "\n"
          ]
        }
      ],
      "source": [
        "install.packages(\"ggplot2\")"
      ]
    },
    {
      "cell_type": "code",
      "source": [
        "usd<-read.csv('/content/sample_data/USD_NTD.csv',header =F,sep = \",\")"
      ],
      "metadata": {
        "id": "iO3bale4lp-I"
      },
      "execution_count": null,
      "outputs": []
    },
    {
      "cell_type": "code",
      "source": [
        "head(usd)"
      ],
      "metadata": {
        "colab": {
          "base_uri": "https://localhost:8080/",
          "height": 410
        },
        "id": "eEA6rdpLrlA_",
        "outputId": "356fc4c4-280c-4ea7-a2d7-709f43e1940c"
      },
      "execution_count": null,
      "outputs": [
        {
          "output_type": "display_data",
          "data": {
            "text/html": [
              "<table class=\"dataframe\">\n",
              "<caption>A data.frame: 6 × 23</caption>\n",
              "<thead>\n",
              "\t<tr><th></th><th scope=col>V1</th><th scope=col>V2</th><th scope=col>V3</th><th scope=col>V4</th><th scope=col>V5</th><th scope=col>V6</th><th scope=col>V7</th><th scope=col>V8</th><th scope=col>V9</th><th scope=col>V10</th><th scope=col>⋯</th><th scope=col>V14</th><th scope=col>V15</th><th scope=col>V16</th><th scope=col>V17</th><th scope=col>V18</th><th scope=col>V19</th><th scope=col>V20</th><th scope=col>V21</th><th scope=col>V22</th><th scope=col>V23</th></tr>\n",
              "\t<tr><th></th><th scope=col>&lt;chr&gt;</th><th scope=col>&lt;chr&gt;</th><th scope=col>&lt;chr&gt;</th><th scope=col>&lt;chr&gt;</th><th scope=col>&lt;chr&gt;</th><th scope=col>&lt;chr&gt;</th><th scope=col>&lt;chr&gt;</th><th scope=col>&lt;chr&gt;</th><th scope=col>&lt;chr&gt;</th><th scope=col>&lt;chr&gt;</th><th scope=col>⋯</th><th scope=col>&lt;chr&gt;</th><th scope=col>&lt;chr&gt;</th><th scope=col>&lt;chr&gt;</th><th scope=col>&lt;chr&gt;</th><th scope=col>&lt;chr&gt;</th><th scope=col>&lt;chr&gt;</th><th scope=col>&lt;chr&gt;</th><th scope=col>&lt;chr&gt;</th><th scope=col>&lt;chr&gt;</th><th scope=col>&lt;lgl&gt;</th></tr>\n",
              "</thead>\n",
              "<tbody>\n",
              "\t<tr><th scope=row>1</th><td>資料日期</td><td>幣別</td><td>匯率    </td><td>現金    </td><td>即期    </td><td>遠期10天</td><td>遠期30天</td><td>遠期60天</td><td>遠期90天</td><td>遠期120天</td><td>⋯</td><td>現金    </td><td>即期    </td><td>遠期10天</td><td>遠期30天</td><td>遠期60天</td><td>遠期90天</td><td>遠期120天</td><td>遠期150天</td><td>遠期180天</td><td>NA</td></tr>\n",
              "\t<tr><th scope=row>2</th><td>20230505</td><td>USD </td><td>本行買入</td><td>30.23500</td><td>30.58500</td><td>30.55600</td><td>30.47100</td><td>30.35400</td><td>30.25000</td><td>30.14200 </td><td>⋯</td><td>30.90500</td><td>30.68500</td><td>30.66400</td><td>30.57900</td><td>30.47000</td><td>30.37300</td><td>30.27300 </td><td>30.16600 </td><td>30.08100 </td><td>NA</td></tr>\n",
              "\t<tr><th scope=row>3</th><td>20230504</td><td>USD </td><td>本行買入</td><td>30.27000</td><td>30.62000</td><td>30.59200</td><td>30.49800</td><td>30.38500</td><td>30.28000</td><td>30.17000 </td><td>⋯</td><td>30.94000</td><td>30.72000</td><td>30.70000</td><td>30.62000</td><td>30.51500</td><td>30.42000</td><td>30.32500 </td><td>30.22500 </td><td>30.14400 </td><td>NA</td></tr>\n",
              "\t<tr><th scope=row>4</th><td>20230503</td><td>USD </td><td>本行買入</td><td>30.34500</td><td>30.69500</td><td>30.66700</td><td>30.57500</td><td>30.46500</td><td>30.34500</td><td>30.23700 </td><td>⋯</td><td>31.01500</td><td>30.79500</td><td>30.77500</td><td>30.69500</td><td>30.59500</td><td>30.48700</td><td>30.39900 </td><td>30.30300 </td><td>30.21700 </td><td>NA</td></tr>\n",
              "\t<tr><th scope=row>5</th><td>20230502</td><td>USD </td><td>本行買入</td><td>30.37500</td><td>30.72500</td><td>30.69700</td><td>30.60300</td><td>30.49000</td><td>30.38300</td><td>30.26500 </td><td>⋯</td><td>31.04500</td><td>30.82500</td><td>30.80400</td><td>30.72300</td><td>30.62200</td><td>30.52300</td><td>30.42500 </td><td>30.33500 </td><td>30.24700 </td><td>NA</td></tr>\n",
              "\t<tr><th scope=row>6</th><td>20230428</td><td>USD </td><td>本行買入</td><td>30.34000</td><td>30.69000</td><td>30.66200</td><td>30.56200</td><td>30.46300</td><td>30.35200</td><td>30.23200 </td><td>⋯</td><td>31.01000</td><td>30.79000</td><td>30.77000</td><td>30.68500</td><td>30.59300</td><td>30.49000</td><td>30.39400 </td><td>30.30500 </td><td>30.22000 </td><td>NA</td></tr>\n",
              "</tbody>\n",
              "</table>\n"
            ],
            "text/markdown": "\nA data.frame: 6 × 23\n\n| <!--/--> | V1 &lt;chr&gt; | V2 &lt;chr&gt; | V3 &lt;chr&gt; | V4 &lt;chr&gt; | V5 &lt;chr&gt; | V6 &lt;chr&gt; | V7 &lt;chr&gt; | V8 &lt;chr&gt; | V9 &lt;chr&gt; | V10 &lt;chr&gt; | ⋯ ⋯ | V14 &lt;chr&gt; | V15 &lt;chr&gt; | V16 &lt;chr&gt; | V17 &lt;chr&gt; | V18 &lt;chr&gt; | V19 &lt;chr&gt; | V20 &lt;chr&gt; | V21 &lt;chr&gt; | V22 &lt;chr&gt; | V23 &lt;lgl&gt; |\n|---|---|---|---|---|---|---|---|---|---|---|---|---|---|---|---|---|---|---|---|---|---|\n| 1 | 資料日期 | 幣別 | 匯率     | 現金     | 即期     | 遠期10天 | 遠期30天 | 遠期60天 | 遠期90天 | 遠期120天 | ⋯ | 現金     | 即期     | 遠期10天 | 遠期30天 | 遠期60天 | 遠期90天 | 遠期120天 | 遠期150天 | 遠期180天 | NA |\n| 2 | 20230505 | USD  | 本行買入 | 30.23500 | 30.58500 | 30.55600 | 30.47100 | 30.35400 | 30.25000 | 30.14200  | ⋯ | 30.90500 | 30.68500 | 30.66400 | 30.57900 | 30.47000 | 30.37300 | 30.27300  | 30.16600  | 30.08100  | NA |\n| 3 | 20230504 | USD  | 本行買入 | 30.27000 | 30.62000 | 30.59200 | 30.49800 | 30.38500 | 30.28000 | 30.17000  | ⋯ | 30.94000 | 30.72000 | 30.70000 | 30.62000 | 30.51500 | 30.42000 | 30.32500  | 30.22500  | 30.14400  | NA |\n| 4 | 20230503 | USD  | 本行買入 | 30.34500 | 30.69500 | 30.66700 | 30.57500 | 30.46500 | 30.34500 | 30.23700  | ⋯ | 31.01500 | 30.79500 | 30.77500 | 30.69500 | 30.59500 | 30.48700 | 30.39900  | 30.30300  | 30.21700  | NA |\n| 5 | 20230502 | USD  | 本行買入 | 30.37500 | 30.72500 | 30.69700 | 30.60300 | 30.49000 | 30.38300 | 30.26500  | ⋯ | 31.04500 | 30.82500 | 30.80400 | 30.72300 | 30.62200 | 30.52300 | 30.42500  | 30.33500  | 30.24700  | NA |\n| 6 | 20230428 | USD  | 本行買入 | 30.34000 | 30.69000 | 30.66200 | 30.56200 | 30.46300 | 30.35200 | 30.23200  | ⋯ | 31.01000 | 30.79000 | 30.77000 | 30.68500 | 30.59300 | 30.49000 | 30.39400  | 30.30500  | 30.22000  | NA |\n\n",
            "text/latex": "A data.frame: 6 × 23\n\\begin{tabular}{r|lllllllllllllllllllll}\n  & V1 & V2 & V3 & V4 & V5 & V6 & V7 & V8 & V9 & V10 & ⋯ & V14 & V15 & V16 & V17 & V18 & V19 & V20 & V21 & V22 & V23\\\\\n  & <chr> & <chr> & <chr> & <chr> & <chr> & <chr> & <chr> & <chr> & <chr> & <chr> & ⋯ & <chr> & <chr> & <chr> & <chr> & <chr> & <chr> & <chr> & <chr> & <chr> & <lgl>\\\\\n\\hline\n\t1 & 資料日期 & 幣別 & 匯率     & 現金     & 即期     & 遠期10天 & 遠期30天 & 遠期60天 & 遠期90天 & 遠期120天 & ⋯ & 現金     & 即期     & 遠期10天 & 遠期30天 & 遠期60天 & 遠期90天 & 遠期120天 & 遠期150天 & 遠期180天 & NA\\\\\n\t2 & 20230505 & USD  & 本行買入 & 30.23500 & 30.58500 & 30.55600 & 30.47100 & 30.35400 & 30.25000 & 30.14200  & ⋯ & 30.90500 & 30.68500 & 30.66400 & 30.57900 & 30.47000 & 30.37300 & 30.27300  & 30.16600  & 30.08100  & NA\\\\\n\t3 & 20230504 & USD  & 本行買入 & 30.27000 & 30.62000 & 30.59200 & 30.49800 & 30.38500 & 30.28000 & 30.17000  & ⋯ & 30.94000 & 30.72000 & 30.70000 & 30.62000 & 30.51500 & 30.42000 & 30.32500  & 30.22500  & 30.14400  & NA\\\\\n\t4 & 20230503 & USD  & 本行買入 & 30.34500 & 30.69500 & 30.66700 & 30.57500 & 30.46500 & 30.34500 & 30.23700  & ⋯ & 31.01500 & 30.79500 & 30.77500 & 30.69500 & 30.59500 & 30.48700 & 30.39900  & 30.30300  & 30.21700  & NA\\\\\n\t5 & 20230502 & USD  & 本行買入 & 30.37500 & 30.72500 & 30.69700 & 30.60300 & 30.49000 & 30.38300 & 30.26500  & ⋯ & 31.04500 & 30.82500 & 30.80400 & 30.72300 & 30.62200 & 30.52300 & 30.42500  & 30.33500  & 30.24700  & NA\\\\\n\t6 & 20230428 & USD  & 本行買入 & 30.34000 & 30.69000 & 30.66200 & 30.56200 & 30.46300 & 30.35200 & 30.23200  & ⋯ & 31.01000 & 30.79000 & 30.77000 & 30.68500 & 30.59300 & 30.49000 & 30.39400  & 30.30500  & 30.22000  & NA\\\\\n\\end{tabular}\n",
            "text/plain": [
              "  V1       V2   V3       V4       V5       V6       V7       V8       V9      \n",
              "1 資料日期 幣別 匯率     現金     即期     遠期10天 遠期30天 遠期60天 遠期90天\n",
              "2 20230505 USD  本行買入 30.23500 30.58500 30.55600 30.47100 30.35400 30.25000\n",
              "3 20230504 USD  本行買入 30.27000 30.62000 30.59200 30.49800 30.38500 30.28000\n",
              "4 20230503 USD  本行買入 30.34500 30.69500 30.66700 30.57500 30.46500 30.34500\n",
              "5 20230502 USD  本行買入 30.37500 30.72500 30.69700 30.60300 30.49000 30.38300\n",
              "6 20230428 USD  本行買入 30.34000 30.69000 30.66200 30.56200 30.46300 30.35200\n",
              "  V10       ⋯ V14      V15      V16      V17      V18      V19      V20      \n",
              "1 遠期120天 ⋯ 現金     即期     遠期10天 遠期30天 遠期60天 遠期90天 遠期120天\n",
              "2 30.14200  ⋯ 30.90500 30.68500 30.66400 30.57900 30.47000 30.37300 30.27300 \n",
              "3 30.17000  ⋯ 30.94000 30.72000 30.70000 30.62000 30.51500 30.42000 30.32500 \n",
              "4 30.23700  ⋯ 31.01500 30.79500 30.77500 30.69500 30.59500 30.48700 30.39900 \n",
              "5 30.26500  ⋯ 31.04500 30.82500 30.80400 30.72300 30.62200 30.52300 30.42500 \n",
              "6 30.23200  ⋯ 31.01000 30.79000 30.77000 30.68500 30.59300 30.49000 30.39400 \n",
              "  V21       V22       V23\n",
              "1 遠期150天 遠期180天 NA \n",
              "2 30.16600  30.08100  NA \n",
              "3 30.22500  30.14400  NA \n",
              "4 30.30300  30.21700  NA \n",
              "5 30.33500  30.24700  NA \n",
              "6 30.30500  30.22000  NA "
            ]
          },
          "metadata": {}
        }
      ]
    },
    {
      "cell_type": "code",
      "source": [],
      "metadata": {
        "id": "LDQ1NhX5tV61"
      },
      "execution_count": null,
      "outputs": []
    }
  ]
}