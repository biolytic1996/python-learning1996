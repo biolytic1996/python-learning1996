{
  "nbformat": 4,
  "nbformat_minor": 0,
  "metadata": {
    "colab": {
      "name": "質數判斷.ipynb",
      "provenance": [],
      "collapsed_sections": [],
      "authorship_tag": "ABX9TyNCBVqF1FuGXU4E60kpEoSx",
      "include_colab_link": true
    },
    "kernelspec": {
      "name": "python3",
      "display_name": "Python 3"
    },
    "language_info": {
      "name": "python"
    }
  },
  "cells": [
    {
      "cell_type": "markdown",
      "metadata": {
        "id": "view-in-github",
        "colab_type": "text"
      },
      "source": [
        "<a href=\"https://colab.research.google.com/github/biolytic1996/python-learning1996/blob/master/%E8%B3%AA%E6%95%B8%E5%88%A4%E6%96%B7.ipynb\" target=\"_parent\"><img src=\"https://colab.research.google.com/assets/colab-badge.svg\" alt=\"Open In Colab\"/></a>"
      ]
    },
    {
      "cell_type": "markdown",
      "metadata": {
        "id": "20eQm5AWsKGy"
      },
      "source": [
        "## 先從如何判斷質數開始<br>\n",
        "##凡凡進到看守所<br>\n",
        "\n",
        "![](https://hips.hearstapps.com/hmg-prod.s3.amazonaws.com/images/ad3a9537-069f-4347-bc3d-f87ddac966d3-1632977557.jpeg?crop=1xw:1xh;center,top&resize=980:*)\n",
        "\n",
        "\n",
        "\n",
        "##聽說領到的衣服上面的號碼<br>\n",
        "##如果是質數就會被...背後...<br>"
      ]
    },
    {
      "cell_type": "markdown",
      "metadata": {
        "id": "bbwX8WSesHuz"
      },
      "source": [
        "##無比害怕的凡凡就趕快寫了一個判斷質數的python如下<br>\n",
        "\n",
        "\n",
        "```\n",
        "def prime_or_not(n):\n",
        "  for i in range(2,n): # 此處i 會由2跑到n-1\n",
        "    if n%i==0:\n",
        "      return False # 在i由2跑到n-1的過程中，如果n能被i整除，視為false\n",
        "  return True #其餘狀況就是true\n",
        "\n",
        "```\n",
        "##用return的好處是，他是直接判斷狀態認定，你用print的話，就會變得每行都回報<br>\n",
        "##此外，return True放的位置很重要\n",
        "\n"
      ]
    },
    {
      "cell_type": "code",
      "metadata": {
        "id": "9lB1B7do_C_z"
      },
      "source": [
        "def prime_or_not(n):\n",
        "  for i in range(2,n): # 此處i 會由2跑到n-1\n",
        "    if n%i==0:\n",
        "      return False # 在i由2跑到n-1的過程中，如果n能被i整除，視為false\n",
        "  return True #其餘狀況就是true"
      ],
      "execution_count": 62,
      "outputs": []
    },
    {
      "cell_type": "code",
      "metadata": {
        "colab": {
          "base_uri": "https://localhost:8080/"
        },
        "id": "eCWvSAU_5fek",
        "outputId": "e95323fe-a63d-4a5f-8c1d-f64343365937"
      },
      "source": [
        "prime_or_not(21)\n",
        "\n",
        "\n"
      ],
      "execution_count": 64,
      "outputs": [
        {
          "output_type": "execute_result",
          "data": {
            "text/plain": [
              "False"
            ]
          },
          "metadata": {},
          "execution_count": 64
        }
      ]
    },
    {
      "cell_type": "markdown",
      "metadata": {
        "id": "fkw98z566o2e"
      },
      "source": [
        "##凡凡想知道在他之前有沒有其他人也是質數"
      ]
    },
    {
      "cell_type": "code",
      "metadata": {
        "id": "LinIIvlR6YMY",
        "colab": {
          "base_uri": "https://localhost:8080/"
        },
        "outputId": "5c572140-7288-4c7a-c7c5-9d172af8992e"
      },
      "source": [
        "num = int(input('輸入我的號碼，我來看看比我小的號碼有沒有質數'))\n",
        "for j in range(num+1):\n",
        "  state=prime_or_not(j)\n",
        "  if state==True: #這裡可以簡寫成 if state:\n",
        "    print(j)\n",
        "     \n"
      ],
      "execution_count": 66,
      "outputs": [
        {
          "output_type": "stream",
          "name": "stdout",
          "text": [
            "輸入我的號碼，我來看看比我小的號碼有沒有質數30\n",
            "0\n",
            "1\n",
            "2\n",
            "3\n",
            "5\n",
            "7\n",
            "11\n",
            "13\n",
            "17\n",
            "19\n",
            "23\n",
            "29\n"
          ]
        }
      ]
    },
    {
      "cell_type": "markdown",
      "metadata": {
        "id": "hd2p3_4N_zEL"
      },
      "source": [
        "##凡凡的房間有四個人，他想知道最大跟最小的號碼中間有多少的質數"
      ]
    },
    {
      "cell_type": "code",
      "metadata": {
        "colab": {
          "base_uri": "https://localhost:8080/"
        },
        "id": "0_Zm-X_zwBl_",
        "outputId": "bcb50995-d7ac-4909-e83c-005141832ab6"
      },
      "source": [
        "lower = int(input('最小號碼'))\n",
        "upper = int(input('最大號碼'))\n",
        " \n",
        "for k in range(lower,upper+1):\n",
        "    \n",
        "  state=prime_or_not(k)\n",
        "  if state:\n",
        "    print(k)"
      ],
      "execution_count": 67,
      "outputs": [
        {
          "output_type": "stream",
          "name": "stdout",
          "text": [
            "最小號碼2\n",
            "最大號碼20\n",
            "2\n",
            "3\n",
            "5\n",
            "7\n",
            "11\n",
            "13\n",
            "17\n",
            "19\n"
          ]
        }
      ]
    },
    {
      "cell_type": "markdown",
      "metadata": {
        "id": "c83Fyrg3Btqp"
      },
      "source": [
        "## 以下為交作業完整寫法"
      ]
    },
    {
      "cell_type": "code",
      "metadata": {
        "colab": {
          "base_uri": "https://localhost:8080/"
        },
        "id": "f9NSN1PzBpOb",
        "outputId": "84ee5da2-cd52-4615-9849-4eadf28cd781"
      },
      "source": [
        "def prime_or_not(n):\n",
        "  for i in range(2,n): # 此處i 會由2跑到n-1\n",
        "    if n%i==0:\n",
        "      return False # 在i由2跑到n-1的過程中，如果n能被i整除，視為false\n",
        "  return True #其餘狀況就是true\n",
        "lower = int(input('最小號碼'))\n",
        "upper = int(input('最大號碼'))\n",
        " \n",
        "for k in range(lower,upper+1):\n",
        "    \n",
        "  state=prime_or_not(k)\n",
        "  if state:\n",
        "    print(k)"
      ],
      "execution_count": 68,
      "outputs": [
        {
          "output_type": "stream",
          "name": "stdout",
          "text": [
            "最小號碼1\n",
            "最大號碼25\n",
            "1\n",
            "2\n",
            "3\n",
            "5\n",
            "7\n",
            "11\n",
            "13\n",
            "17\n",
            "19\n",
            "23\n"
          ]
        }
      ]
    }
  ]
}