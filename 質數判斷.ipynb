{
  "nbformat": 4,
  "nbformat_minor": 0,
  "metadata": {
    "colab": {
      "name": "質數判斷.ipynb",
      "provenance": [],
      "collapsed_sections": [],
      "authorship_tag": "ABX9TyMh3rT72QQa49FnAUuIdrN1",
      "include_colab_link": true
    },
    "kernelspec": {
      "name": "python3",
      "display_name": "Python 3"
    },
    "language_info": {
      "name": "python"
    }
  },
  "cells": [
    {
      "cell_type": "markdown",
      "metadata": {
        "id": "view-in-github",
        "colab_type": "text"
      },
      "source": [
        "<a href=\"https://colab.research.google.com/github/biolytic1996/python-learning1996/blob/master/%E8%B3%AA%E6%95%B8%E5%88%A4%E6%96%B7.ipynb\" target=\"_parent\"><img src=\"https://colab.research.google.com/assets/colab-badge.svg\" alt=\"Open In Colab\"/></a>"
      ]
    },
    {
      "cell_type": "markdown",
      "metadata": {
        "id": "20eQm5AWsKGy"
      },
      "source": [
        "## 先從如何判斷質數開始<br>\n",
        "##凡凡進到看守所<br>\n",
        "\n",
        "![](https://hips.hearstapps.com/hmg-prod.s3.amazonaws.com/images/ad3a9537-069f-4347-bc3d-f87ddac966d3-1632977557.jpeg?crop=1xw:1xh;center,top&resize=980:*)\n",
        "\n",
        "\n",
        "\n",
        "##聽說領到的衣服上面的號碼<br>\n",
        "##如果是質數就會被...背後...<br>"
      ]
    },
    {
      "cell_type": "markdown",
      "metadata": {
        "id": "bbwX8WSesHuz"
      },
      "source": [
        "##無比害怕的凡凡就趕快寫了一個判斷質數的python如下<br>\n",
        "\n",
        "\n",
        "```\n",
        "def prime_or_not(n):\n",
        "  for i in range(2,n): # 此處i 會由2跑到n-1\n",
        "    if n%i==0:\n",
        "      return False # 在i由2跑到n-1的過程中，如果n能被i整除，視為false\n",
        "  return True #其餘狀況就是true\n",
        "\n",
        "```\n",
        "##用return的好處是，他是直接判斷狀態認定，你用print的話，就會變得每行都回報<br>\n",
        "##此外，return True放的位置很重要\n",
        "\n"
      ]
    },
    {
      "cell_type": "code",
      "metadata": {
        "id": "9lB1B7do_C_z"
      },
      "source": [
        "def prime_or_not(n):\n",
        "  for i in range(2,n): # 此處i 會由2跑到n-1\n",
        "    if n%i==0: # 讓輸入的數字n依序被2~n-1除，如果途中有被除盡，代表有2以外的因數\n",
        "      return False # 在i由2跑到n-1的過程中，如果n能被i整除，視為false\n",
        "  return True #其餘狀況就是true"
      ],
      "execution_count": null,
      "outputs": []
    },
    {
      "cell_type": "code",
      "metadata": {
        "colab": {
          "base_uri": "https://localhost:8080/"
        },
        "id": "eCWvSAU_5fek",
        "outputId": "f1e6f63a-e1c0-47e5-c1b4-48e1b6ff4e9c"
      },
      "source": [
        "prime_or_not(25)\n",
        "\n",
        "\n"
      ],
      "execution_count": null,
      "outputs": [
        {
          "output_type": "execute_result",
          "data": {
            "text/plain": [
              "False"
            ]
          },
          "metadata": {},
          "execution_count": 8
        }
      ]
    },
    {
      "cell_type": "markdown",
      "metadata": {
        "id": "fkw98z566o2e"
      },
      "source": [
        "##凡凡想知道在他之前有沒有其他人也是質數"
      ]
    },
    {
      "cell_type": "code",
      "metadata": {
        "id": "LinIIvlR6YMY",
        "colab": {
          "base_uri": "https://localhost:8080/"
        },
        "outputId": "01d45532-1eb5-4640-d5e5-2f3993141fa9"
      },
      "source": [
        "num = int(input('輸入我的號碼，我來看看比我小的號碼有沒有質數'))\n",
        "for j in range(num+1): #把num 之前的數字都叫出來\n",
        "  state=prime_or_not(j) #讓num以前的數字都丟去判斷是否為質數\n",
        "  #print(state) 此行確認用\n",
        "  if state==True: #如果數字代表出來的狀態是true\n",
        "    print(j)#就印出該數字\n",
        "     \n"
      ],
      "execution_count": null,
      "outputs": [
        {
          "output_type": "stream",
          "name": "stdout",
          "text": [
            "輸入我的號碼，我來看看比我小的號碼有沒有質數3\n",
            "0\n",
            "1\n",
            "2\n",
            "3\n"
          ]
        }
      ]
    },
    {
      "cell_type": "markdown",
      "metadata": {
        "id": "hd2p3_4N_zEL"
      },
      "source": [
        "##凡凡的房間有四個人，他想知道最大跟最小的號碼中間有多少的質數"
      ]
    },
    {
      "cell_type": "code",
      "metadata": {
        "colab": {
          "base_uri": "https://localhost:8080/"
        },
        "id": "0_Zm-X_zwBl_",
        "outputId": "bcb50995-d7ac-4909-e83c-005141832ab6"
      },
      "source": [
        "lower = int(input('最小號碼'))\n",
        "upper = int(input('最大號碼'))\n",
        " \n",
        "for k in range(lower,upper+1):\n",
        "    \n",
        "  state=prime_or_not(k)\n",
        "  if state==True:\n",
        "    print(k)"
      ],
      "execution_count": null,
      "outputs": [
        {
          "output_type": "stream",
          "name": "stdout",
          "text": [
            "最小號碼2\n",
            "最大號碼20\n",
            "2\n",
            "3\n",
            "5\n",
            "7\n",
            "11\n",
            "13\n",
            "17\n",
            "19\n"
          ]
        }
      ]
    },
    {
      "cell_type": "markdown",
      "metadata": {
        "id": "c83Fyrg3Btqp"
      },
      "source": [
        "## 以下為交作業完整寫法"
      ]
    },
    {
      "cell_type": "code",
      "metadata": {
        "id": "f9NSN1PzBpOb"
      },
      "source": [
        "def prime_or_not(n):  # 創造一個可以判斷質數的函式命名為prime_or_not\n",
        "    for i in range(2, n):  # 此處i 會由2跑到n-1\n",
        "        if n % i == 0:  # 讓輸入的數字n依序被2~n-1除，如果途中有被除盡，代表有2以外的因數\n",
        "            return False  # 在i由2跑到n-1的過程中，如果n能被i整除，視為false\n",
        "    return True  # 其餘狀況就是true\n",
        "\n",
        "\n",
        "begin = int(input('最小號碼'))  # 輸入小的號碼begin\n",
        "end = int(input('最大號碼'))  # 輸入大的號碼end\n",
        "\n",
        "for k in range(begin, end + 1):  # 叫出包含begin和end和中間的數字\n",
        "    state = prime_or_not(k)  # 包含begin和end的數字和中間的數字都去判斷是否質數\n",
        "    if state == True:\n",
        "        print(k)"
      ],
      "execution_count": null,
      "outputs": []
    }
  ]
}