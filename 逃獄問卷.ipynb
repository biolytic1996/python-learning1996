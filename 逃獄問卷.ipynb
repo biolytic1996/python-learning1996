{
  "nbformat": 4,
  "nbformat_minor": 0,
  "metadata": {
    "colab": {
      "name": "逃獄問卷.ipynb",
      "provenance": [],
      "collapsed_sections": [],
      "authorship_tag": "ABX9TyPQJ3+g+XJAujGMwFO/tgU9",
      "include_colab_link": true
    },
    "kernelspec": {
      "name": "python3",
      "display_name": "Python 3"
    },
    "language_info": {
      "name": "python"
    }
  },
  "cells": [
    {
      "cell_type": "markdown",
      "metadata": {
        "id": "view-in-github",
        "colab_type": "text"
      },
      "source": [
        "<a href=\"https://colab.research.google.com/github/biolytic1996/python-learning1996/blob/master/%E9%80%83%E7%8D%84%E5%95%8F%E5%8D%B7.ipynb\" target=\"_parent\"><img src=\"https://colab.research.google.com/assets/colab-badge.svg\" alt=\"Open In Colab\"/></a>"
      ]
    },
    {
      "cell_type": "markdown",
      "metadata": {
        "id": "Y0SeaLTV9hyu"
      },
      "source": [
        "#哈利波特因為被誣陷辱霍，判刑進阿茲卡班監獄拘留<br>\n",
        "#如果不逃獄，要被監禁80年<br>\n",
        "#如果毫無裝備逃獄，可能的結果有\n",
        "#1. 逃獄成功<br>\n",
        "#2. 失敗墜谷而亡<br>\n",
        "#3. 被逮終身監禁\n",
        "#您的選擇將決定他的命運，這是一場賽局<br>\n",
        "#時間有限，您必須在??分鐘內逃出監獄\n"
      ]
    },
    {
      "cell_type": "markdown",
      "metadata": {
        "id": "r-WrJKw_WzKf"
      },
      "source": [
        "#第一情境：哈利您在逃獄過程中，前方有兩條路，遠路與岩漿橋\n",
        "#遠路要花10分鐘，只能一個人通過的岩漿橋近路要五分鐘，但橋上已經有也在逃獄的馬份<br>\n",
        "#A 一起過橋並且之後一起合作 (耗時10分鐘)\n",
        "#B 推馬份下橋並過橋 (耗時5分鐘)\n",
        "#C 走遠路 (耗時10分鐘)\n",
        "#請按左下方play按鍵，並輸入大寫字母選擇\n"
      ]
    },
    {
      "cell_type": "code",
      "metadata": {
        "colab": {
          "base_uri": "https://localhost:8080/"
        },
        "id": "NJPQOlA54Uju",
        "outputId": "0ccaa083-2065-4d27-f0fd-95871bfa204d"
      },
      "source": [
        "\n",
        "\n",
        "global q1\n",
        "global time1\n",
        "time1=0\n",
        "q1=str(input('請輸入你的選擇'))\n",
        "if q1=='A' or 'B' or 'C':\n",
        "  if q1=='A':\n",
        "    time1=time1+10\n",
        "    print('已耗時',time1,'分鐘')\n",
        "  elif q1=='B':\n",
        "    time1=time1+5\n",
        "    print('已耗時',time1,'分鐘')\n",
        "  elif q1=='C':\n",
        "    time1=time1+5\n",
        "    print('已耗時',time1,'分鐘')\n",
        "  else:\n",
        "    print('請輸入大寫ABC')\n",
        "\n",
        "  \n"
      ],
      "execution_count": 30,
      "outputs": [
        {
          "output_type": "stream",
          "name": "stdout",
          "text": [
            "請輸入你的選擇A\n",
            "已耗時 10 分鐘\n"
          ]
        }
      ]
    },
    {
      "cell_type": "markdown",
      "metadata": {
        "id": "2ySMT5cIiSSa"
      },
      "source": [
        "#第二情境：越過岩漿橋後，竟然發現石內卜也在逃獄(白人問號)\n",
        "\n",
        "#A 合作一起往下一關 (耗時10分鐘)\n",
        "#B 背叛 (耗時15分鐘)\n",
        "#C 繞路 (耗時5分鐘)\n",
        "請按左下方play按鍵，並輸入大寫字母選擇"
      ]
    },
    {
      "cell_type": "code",
      "metadata": {
        "colab": {
          "base_uri": "https://localhost:8080/"
        },
        "id": "v193Hvwnh2Wi",
        "outputId": "de400e6c-ea63-46a0-b13b-ae925d336a79"
      },
      "source": [
        "global q2\n",
        "global time2\n",
        "time2=0\n",
        "q2=str(input('請輸入你的選擇'))\n",
        "if q2=='A' or 'B' or 'C':\n",
        "  if q2=='A':\n",
        "    time2=time1+10\n",
        "    print('已耗時',time2,'分鐘')\n",
        "  elif q2=='B':\n",
        "    time2=time1+15\n",
        "    print('已耗時',time2,'分鐘')\n",
        "  elif q2=='C':\n",
        "    time2=time1+5\n",
        "    print('已耗時',time2,'分鐘')\n",
        "  else:\n",
        "    print('請輸入大寫ABC')"
      ],
      "execution_count": 31,
      "outputs": [
        {
          "output_type": "stream",
          "name": "stdout",
          "text": [
            "請輸入你的選擇B\n",
            "已耗時 25 分鐘\n"
          ]
        }
      ]
    },
    {
      "cell_type": "code",
      "metadata": {
        "id": "Y0ts0xnRs0Jd"
      },
      "source": [
        "#第三情境：遭遇催狂魔\n",
        "\n",
        "#A 跟他拚了 \n",
        "#B 背叛 \n",
        "#C 繞路 "
      ],
      "execution_count": null,
      "outputs": []
    }
  ]
}